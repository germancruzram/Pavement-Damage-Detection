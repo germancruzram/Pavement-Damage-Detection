{
  "cells": [
    {
      "cell_type": "markdown",
      "metadata": {
        "id": "view-in-github",
        "colab_type": "text"
      },
      "source": [
        "<a href=\"https://colab.research.google.com/github/germancruzram/Pavement-Damage-Detection/blob/main/Pavimenta2_IADB_Shared.ipynb\" target=\"_parent\"><img src=\"https://colab.research.google.com/assets/colab-badge.svg\" alt=\"Open In Colab\"/></a>"
      ]
    },
    {
      "cell_type": "markdown",
      "metadata": {
        "id": "yx1haBh93YtJ"
      },
      "source": [
        "# **CAPITULO I. MODELO IA PAVIMENTADO IADB**\n",
        "\n",
        "Pavimenta2 es una herramienta que permite identificar el deterioro en pavimentos flexibles, así como la señalización vertical y horizontal. Se utilizan modelos de visión artificial para detectar diferentes elementos en las carreteras, lo cual es útil para la planificación y mantenimiento de las vías. Pavimenta2 fue desarrollada por la División de Transporte del BID.\n",
        "\n",
        "Una alternativa más eficiente para ejecutar Pavimenta2 es desde Python local utilizando una GPU Nvidia. Sin embargo, si existen limitaciones técnicas, otra opción es utilizar Google Colab.\n",
        "\n",
        "En el **capítulo 1**, se presentan los códigos necesarios para ejecutar la aplicación Pavimenta2 desde Google Colab. A continuación, comparto el enlace de la fuente principal: https://code.iadb.org/es/herramientas/pavimentados  https://github.com/EL-BID/pavimentados\n",
        "\n",
        "El **capítulo 2** es un esfuerzo para aprovechar la información generada por la herramienta Pavimenta2, creando un mapa con las incidencias detectadas.\n",
        "\n",
        "**ING. GERMAN CRUZ RAMIREZ🇳**"
      ]
    },
    {
      "cell_type": "markdown",
      "metadata": {
        "id": "TOnwyNZq5DQJ"
      },
      "source": [
        "**1.1 CARGANDO LIBRERIAS**"
      ]
    },
    {
      "cell_type": "code",
      "execution_count": null,
      "metadata": {
        "colab": {
          "base_uri": "https://localhost:8080/",
          "height": 443
        },
        "id": "i5wha6LrckeK",
        "outputId": "4a9b9b88-d02b-42f9-a9b4-b511196ca2ad"
      },
      "outputs": [
        {
          "name": "stdout",
          "output_type": "stream",
          "text": [
            "Collecting pillow==7\n",
            "  Downloading Pillow-7.0.0.tar.gz (38.2 MB)\n",
            "\u001b[2K     \u001b[90m━━━━━━━━━━━━━━━━━━━━━━━━━━━━━━━━━━━━━━━━\u001b[0m \u001b[32m38.2/38.2 MB\u001b[0m \u001b[31m15.6 MB/s\u001b[0m eta \u001b[36m0:00:00\u001b[0m\n",
            "\u001b[?25h  Preparing metadata (setup.py) ... \u001b[?25l\u001b[?25hdone\n",
            "Building wheels for collected packages: pillow\n",
            "  Building wheel for pillow (setup.py) ... \u001b[?25l\u001b[?25hdone\n",
            "  Created wheel for pillow: filename=Pillow-7.0.0-cp310-cp310-linux_x86_64.whl size=1126187 sha256=3fce627b1f5f56aeefa952b66f0b4558ea0d093bb1913d88628281edcb1065ac\n",
            "  Stored in directory: /root/.cache/pip/wheels/1c/10/cb/7305a55650f9a7458ab3ffbedf17d848e35e3fb86cffc6cee9\n",
            "Successfully built pillow\n",
            "Installing collected packages: pillow\n",
            "  Attempting uninstall: pillow\n",
            "    Found existing installation: Pillow 9.4.0\n",
            "    Uninstalling Pillow-9.4.0:\n",
            "      Successfully uninstalled Pillow-9.4.0\n",
            "\u001b[31mERROR: pip's dependency resolver does not currently take into account all the packages that are installed. This behaviour is the source of the following dependency conflicts.\n",
            "bokeh 3.3.4 requires pillow>=7.1.0, but you have pillow 7.0.0 which is incompatible.\n",
            "fastai 2.7.14 requires pillow>=9.0.0, but you have pillow 7.0.0 which is incompatible.\n",
            "imageio 2.31.6 requires pillow<10.1.0,>=8.3.2, but you have pillow 7.0.0 which is incompatible.\u001b[0m\u001b[31m\n",
            "\u001b[0mSuccessfully installed pillow-7.0.0\n"
          ]
        },
        {
          "data": {
            "application/vnd.colab-display-data+json": {
              "id": "4b13ad992e6b4ba4b6f7b38430434613",
              "pip_warning": {
                "packages": [
                  "PIL"
                ]
              }
            }
          },
          "metadata": {},
          "output_type": "display_data"
        }
      ],
      "source": [
        "!pip install pillow==7"
      ]
    },
    {
      "cell_type": "code",
      "execution_count": null,
      "metadata": {
        "colab": {
          "base_uri": "https://localhost:8080/",
          "height": 1000
        },
        "id": "I4eUxjIkxc5G",
        "outputId": "dbf267d2-79a9-4b56-e8df-1c7a6e5e872f"
      },
      "outputs": [
        {
          "name": "stdout",
          "output_type": "stream",
          "text": [
            "Collecting pavimentados\n",
            "  Downloading pavimentados-0.31.3-py3-none-any.whl (32 kB)\n",
            "Requirement already satisfied: pandas>=1.0.3 in /usr/local/lib/python3.10/dist-packages (from pavimentados) (1.5.3)\n",
            "Requirement already satisfied: numpy>=1.19.5 in /usr/local/lib/python3.10/dist-packages (from pavimentados) (1.25.2)\n",
            "Collecting pynmea2>=1.15.0 (from pavimentados)\n",
            "  Downloading pynmea2-1.19.0-py3-none-any.whl (30 kB)\n",
            "Collecting tensorflow<2.11 (from pavimentados)\n",
            "  Downloading tensorflow-2.10.1-cp310-cp310-manylinux_2_17_x86_64.manylinux2014_x86_64.whl (578.1 MB)\n",
            "\u001b[2K     \u001b[90m━━━━━━━━━━━━━━━━━━━━━━━━━━━━━━━━━━━━━━━━\u001b[0m \u001b[32m578.1/578.1 MB\u001b[0m \u001b[31m1.2 MB/s\u001b[0m eta \u001b[36m0:00:00\u001b[0m\n",
            "\u001b[?25hRequirement already satisfied: keras>=2.6.0 in /usr/local/lib/python3.10/dist-packages (from pavimentados) (2.15.0)\n",
            "Requirement already satisfied: tqdm in /usr/local/lib/python3.10/dist-packages (from pavimentados) (4.66.2)\n",
            "Requirement already satisfied: Pillow in /usr/local/lib/python3.10/dist-packages (from pavimentados) (7.0.0)\n",
            "Requirement already satisfied: opencv-python>=4.3.0.34 in /usr/local/lib/python3.10/dist-packages (from pavimentados) (4.8.0.76)\n",
            "Collecting boto3>=1.14.37 (from pavimentados)\n",
            "  Downloading boto3-1.34.75-py3-none-any.whl (139 kB)\n",
            "\u001b[2K     \u001b[90m━━━━━━━━━━━━━━━━━━━━━━━━━━━━━━━━━━━━━━━━\u001b[0m \u001b[32m139.3/139.3 kB\u001b[0m \u001b[31m13.7 MB/s\u001b[0m eta \u001b[36m0:00:00\u001b[0m\n",
            "\u001b[?25hRequirement already satisfied: scipy>=1.4.1 in /usr/local/lib/python3.10/dist-packages (from pavimentados) (1.11.4)\n",
            "Requirement already satisfied: joblib in /usr/local/lib/python3.10/dist-packages (from pavimentados) (1.3.2)\n",
            "Collecting botocore<1.35.0,>=1.34.75 (from boto3>=1.14.37->pavimentados)\n",
            "  Downloading botocore-1.34.75-py3-none-any.whl (12.1 MB)\n",
            "\u001b[2K     \u001b[90m━━━━━━━━━━━━━━━━━━━━━━━━━━━━━━━━━━━━━━━━\u001b[0m \u001b[32m12.1/12.1 MB\u001b[0m \u001b[31m75.3 MB/s\u001b[0m eta \u001b[36m0:00:00\u001b[0m\n",
            "\u001b[?25hCollecting jmespath<2.0.0,>=0.7.1 (from boto3>=1.14.37->pavimentados)\n",
            "  Downloading jmespath-1.0.1-py3-none-any.whl (20 kB)\n",
            "Collecting s3transfer<0.11.0,>=0.10.0 (from boto3>=1.14.37->pavimentados)\n",
            "  Downloading s3transfer-0.10.1-py3-none-any.whl (82 kB)\n",
            "\u001b[2K     \u001b[90m━━━━━━━━━━━━━━━━━━━━━━━━━━━━━━━━━━━━━━━━\u001b[0m \u001b[32m82.2/82.2 kB\u001b[0m \u001b[31m10.0 MB/s\u001b[0m eta \u001b[36m0:00:00\u001b[0m\n",
            "\u001b[?25hRequirement already satisfied: python-dateutil>=2.8.1 in /usr/local/lib/python3.10/dist-packages (from pandas>=1.0.3->pavimentados) (2.8.2)\n",
            "Requirement already satisfied: pytz>=2020.1 in /usr/local/lib/python3.10/dist-packages (from pandas>=1.0.3->pavimentados) (2023.4)\n",
            "Requirement already satisfied: absl-py>=1.0.0 in /usr/local/lib/python3.10/dist-packages (from tensorflow<2.11->pavimentados) (1.4.0)\n",
            "Requirement already satisfied: astunparse>=1.6.0 in /usr/local/lib/python3.10/dist-packages (from tensorflow<2.11->pavimentados) (1.6.3)\n",
            "Requirement already satisfied: flatbuffers>=2.0 in /usr/local/lib/python3.10/dist-packages (from tensorflow<2.11->pavimentados) (24.3.25)\n",
            "Collecting gast<=0.4.0,>=0.2.1 (from tensorflow<2.11->pavimentados)\n",
            "  Downloading gast-0.4.0-py3-none-any.whl (9.8 kB)\n",
            "Requirement already satisfied: google-pasta>=0.1.1 in /usr/local/lib/python3.10/dist-packages (from tensorflow<2.11->pavimentados) (0.2.0)\n",
            "Requirement already satisfied: grpcio<2.0,>=1.24.3 in /usr/local/lib/python3.10/dist-packages (from tensorflow<2.11->pavimentados) (1.62.1)\n",
            "Requirement already satisfied: h5py>=2.9.0 in /usr/local/lib/python3.10/dist-packages (from tensorflow<2.11->pavimentados) (3.9.0)\n",
            "Collecting keras>=2.6.0 (from pavimentados)\n",
            "  Downloading keras-2.10.0-py2.py3-none-any.whl (1.7 MB)\n",
            "\u001b[2K     \u001b[90m━━━━━━━━━━━━━━━━━━━━━━━━━━━━━━━━━━━━━━━━\u001b[0m \u001b[32m1.7/1.7 MB\u001b[0m \u001b[31m46.2 MB/s\u001b[0m eta \u001b[36m0:00:00\u001b[0m\n",
            "\u001b[?25hCollecting keras-preprocessing>=1.1.1 (from tensorflow<2.11->pavimentados)\n",
            "  Downloading Keras_Preprocessing-1.1.2-py2.py3-none-any.whl (42 kB)\n",
            "\u001b[2K     \u001b[90m━━━━━━━━━━━━━━━━━━━━━━━━━━━━━━━━━━━━━━━━\u001b[0m \u001b[32m42.6/42.6 kB\u001b[0m \u001b[31m4.8 MB/s\u001b[0m eta \u001b[36m0:00:00\u001b[0m\n",
            "\u001b[?25hRequirement already satisfied: libclang>=13.0.0 in /usr/local/lib/python3.10/dist-packages (from tensorflow<2.11->pavimentados) (18.1.1)\n",
            "Requirement already satisfied: opt-einsum>=2.3.2 in /usr/local/lib/python3.10/dist-packages (from tensorflow<2.11->pavimentados) (3.3.0)\n",
            "Requirement already satisfied: packaging in /usr/local/lib/python3.10/dist-packages (from tensorflow<2.11->pavimentados) (24.0)\n",
            "Collecting protobuf<3.20,>=3.9.2 (from tensorflow<2.11->pavimentados)\n",
            "  Downloading protobuf-3.19.6-cp310-cp310-manylinux_2_17_x86_64.manylinux2014_x86_64.whl (1.1 MB)\n",
            "\u001b[2K     \u001b[90m━━━━━━━━━━━━━━━━━━━━━━━━━━━━━━━━━━━━━━━━\u001b[0m \u001b[32m1.1/1.1 MB\u001b[0m \u001b[31m57.5 MB/s\u001b[0m eta \u001b[36m0:00:00\u001b[0m\n",
            "\u001b[?25hRequirement already satisfied: setuptools in /usr/local/lib/python3.10/dist-packages (from tensorflow<2.11->pavimentados) (67.7.2)\n",
            "Requirement already satisfied: six>=1.12.0 in /usr/local/lib/python3.10/dist-packages (from tensorflow<2.11->pavimentados) (1.16.0)\n",
            "Collecting tensorboard<2.11,>=2.10 (from tensorflow<2.11->pavimentados)\n",
            "  Downloading tensorboard-2.10.1-py3-none-any.whl (5.9 MB)\n",
            "\u001b[2K     \u001b[90m━━━━━━━━━━━━━━━━━━━━━━━━━━━━━━━━━━━━━━━━\u001b[0m \u001b[32m5.9/5.9 MB\u001b[0m \u001b[31m82.3 MB/s\u001b[0m eta \u001b[36m0:00:00\u001b[0m\n",
            "\u001b[?25hRequirement already satisfied: tensorflow-io-gcs-filesystem>=0.23.1 in /usr/local/lib/python3.10/dist-packages (from tensorflow<2.11->pavimentados) (0.36.0)\n",
            "Collecting tensorflow-estimator<2.11,>=2.10.0 (from tensorflow<2.11->pavimentados)\n",
            "  Downloading tensorflow_estimator-2.10.0-py2.py3-none-any.whl (438 kB)\n",
            "\u001b[2K     \u001b[90m━━━━━━━━━━━━━━━━━━━━━━━━━━━━━━━━━━━━━━━━\u001b[0m \u001b[32m438.7/438.7 kB\u001b[0m \u001b[31m37.5 MB/s\u001b[0m eta \u001b[36m0:00:00\u001b[0m\n",
            "\u001b[?25hRequirement already satisfied: termcolor>=1.1.0 in /usr/local/lib/python3.10/dist-packages (from tensorflow<2.11->pavimentados) (2.4.0)\n",
            "Requirement already satisfied: typing-extensions>=3.6.6 in /usr/local/lib/python3.10/dist-packages (from tensorflow<2.11->pavimentados) (4.10.0)\n",
            "Requirement already satisfied: wrapt>=1.11.0 in /usr/local/lib/python3.10/dist-packages (from tensorflow<2.11->pavimentados) (1.14.1)\n",
            "Requirement already satisfied: wheel<1.0,>=0.23.0 in /usr/local/lib/python3.10/dist-packages (from astunparse>=1.6.0->tensorflow<2.11->pavimentados) (0.43.0)\n",
            "Requirement already satisfied: urllib3!=2.2.0,<3,>=1.25.4 in /usr/local/lib/python3.10/dist-packages (from botocore<1.35.0,>=1.34.75->boto3>=1.14.37->pavimentados) (2.0.7)\n",
            "Requirement already satisfied: google-auth<3,>=1.6.3 in /usr/local/lib/python3.10/dist-packages (from tensorboard<2.11,>=2.10->tensorflow<2.11->pavimentados) (2.27.0)\n",
            "Collecting google-auth-oauthlib<0.5,>=0.4.1 (from tensorboard<2.11,>=2.10->tensorflow<2.11->pavimentados)\n",
            "  Downloading google_auth_oauthlib-0.4.6-py2.py3-none-any.whl (18 kB)\n",
            "Requirement already satisfied: markdown>=2.6.8 in /usr/local/lib/python3.10/dist-packages (from tensorboard<2.11,>=2.10->tensorflow<2.11->pavimentados) (3.6)\n",
            "Requirement already satisfied: requests<3,>=2.21.0 in /usr/local/lib/python3.10/dist-packages (from tensorboard<2.11,>=2.10->tensorflow<2.11->pavimentados) (2.31.0)\n",
            "Collecting tensorboard-data-server<0.7.0,>=0.6.0 (from tensorboard<2.11,>=2.10->tensorflow<2.11->pavimentados)\n",
            "  Downloading tensorboard_data_server-0.6.1-py3-none-manylinux2010_x86_64.whl (4.9 MB)\n",
            "\u001b[2K     \u001b[90m━━━━━━━━━━━━━━━━━━━━━━━━━━━━━━━━━━━━━━━━\u001b[0m \u001b[32m4.9/4.9 MB\u001b[0m \u001b[31m85.9 MB/s\u001b[0m eta \u001b[36m0:00:00\u001b[0m\n",
            "\u001b[?25hCollecting tensorboard-plugin-wit>=1.6.0 (from tensorboard<2.11,>=2.10->tensorflow<2.11->pavimentados)\n",
            "  Downloading tensorboard_plugin_wit-1.8.1-py3-none-any.whl (781 kB)\n",
            "\u001b[2K     \u001b[90m━━━━━━━━━━━━━━━━━━━━━━━━━━━━━━━━━━━━━━━━\u001b[0m \u001b[32m781.3/781.3 kB\u001b[0m \u001b[31m47.7 MB/s\u001b[0m eta \u001b[36m0:00:00\u001b[0m\n",
            "\u001b[?25hRequirement already satisfied: werkzeug>=1.0.1 in /usr/local/lib/python3.10/dist-packages (from tensorboard<2.11,>=2.10->tensorflow<2.11->pavimentados) (3.0.1)\n",
            "Requirement already satisfied: cachetools<6.0,>=2.0.0 in /usr/local/lib/python3.10/dist-packages (from google-auth<3,>=1.6.3->tensorboard<2.11,>=2.10->tensorflow<2.11->pavimentados) (5.3.3)\n",
            "Requirement already satisfied: pyasn1-modules>=0.2.1 in /usr/local/lib/python3.10/dist-packages (from google-auth<3,>=1.6.3->tensorboard<2.11,>=2.10->tensorflow<2.11->pavimentados) (0.4.0)\n",
            "Requirement already satisfied: rsa<5,>=3.1.4 in /usr/local/lib/python3.10/dist-packages (from google-auth<3,>=1.6.3->tensorboard<2.11,>=2.10->tensorflow<2.11->pavimentados) (4.9)\n",
            "Requirement already satisfied: requests-oauthlib>=0.7.0 in /usr/local/lib/python3.10/dist-packages (from google-auth-oauthlib<0.5,>=0.4.1->tensorboard<2.11,>=2.10->tensorflow<2.11->pavimentados) (1.4.1)\n",
            "Requirement already satisfied: charset-normalizer<4,>=2 in /usr/local/lib/python3.10/dist-packages (from requests<3,>=2.21.0->tensorboard<2.11,>=2.10->tensorflow<2.11->pavimentados) (3.3.2)\n",
            "Requirement already satisfied: idna<4,>=2.5 in /usr/local/lib/python3.10/dist-packages (from requests<3,>=2.21.0->tensorboard<2.11,>=2.10->tensorflow<2.11->pavimentados) (3.6)\n",
            "Requirement already satisfied: certifi>=2017.4.17 in /usr/local/lib/python3.10/dist-packages (from requests<3,>=2.21.0->tensorboard<2.11,>=2.10->tensorflow<2.11->pavimentados) (2024.2.2)\n",
            "Requirement already satisfied: MarkupSafe>=2.1.1 in /usr/local/lib/python3.10/dist-packages (from werkzeug>=1.0.1->tensorboard<2.11,>=2.10->tensorflow<2.11->pavimentados) (2.1.5)\n",
            "Requirement already satisfied: pyasn1<0.7.0,>=0.4.6 in /usr/local/lib/python3.10/dist-packages (from pyasn1-modules>=0.2.1->google-auth<3,>=1.6.3->tensorboard<2.11,>=2.10->tensorflow<2.11->pavimentados) (0.6.0)\n",
            "Requirement already satisfied: oauthlib>=3.0.0 in /usr/local/lib/python3.10/dist-packages (from requests-oauthlib>=0.7.0->google-auth-oauthlib<0.5,>=0.4.1->tensorboard<2.11,>=2.10->tensorflow<2.11->pavimentados) (3.2.2)\n",
            "Installing collected packages: tensorboard-plugin-wit, pynmea2, keras, tensorflow-estimator, tensorboard-data-server, protobuf, keras-preprocessing, jmespath, gast, botocore, s3transfer, google-auth-oauthlib, tensorboard, boto3, tensorflow, pavimentados\n",
            "  Attempting uninstall: keras\n",
            "    Found existing installation: keras 2.15.0\n",
            "    Uninstalling keras-2.15.0:\n",
            "      Successfully uninstalled keras-2.15.0\n",
            "  Attempting uninstall: tensorflow-estimator\n",
            "    Found existing installation: tensorflow-estimator 2.15.0\n",
            "    Uninstalling tensorflow-estimator-2.15.0:\n",
            "      Successfully uninstalled tensorflow-estimator-2.15.0\n",
            "  Attempting uninstall: tensorboard-data-server\n",
            "    Found existing installation: tensorboard-data-server 0.7.2\n",
            "    Uninstalling tensorboard-data-server-0.7.2:\n",
            "      Successfully uninstalled tensorboard-data-server-0.7.2\n",
            "  Attempting uninstall: protobuf\n",
            "    Found existing installation: protobuf 3.20.3\n",
            "    Uninstalling protobuf-3.20.3:\n",
            "      Successfully uninstalled protobuf-3.20.3\n",
            "  Attempting uninstall: gast\n",
            "    Found existing installation: gast 0.5.4\n",
            "    Uninstalling gast-0.5.4:\n",
            "      Successfully uninstalled gast-0.5.4\n",
            "  Attempting uninstall: google-auth-oauthlib\n",
            "    Found existing installation: google-auth-oauthlib 1.2.0\n",
            "    Uninstalling google-auth-oauthlib-1.2.0:\n",
            "      Successfully uninstalled google-auth-oauthlib-1.2.0\n",
            "  Attempting uninstall: tensorboard\n",
            "    Found existing installation: tensorboard 2.15.2\n",
            "    Uninstalling tensorboard-2.15.2:\n",
            "      Successfully uninstalled tensorboard-2.15.2\n",
            "  Attempting uninstall: tensorflow\n",
            "    Found existing installation: tensorflow 2.15.0\n",
            "    Uninstalling tensorflow-2.15.0:\n",
            "      Successfully uninstalled tensorflow-2.15.0\n",
            "\u001b[31mERROR: pip's dependency resolver does not currently take into account all the packages that are installed. This behaviour is the source of the following dependency conflicts.\n",
            "pandas-gbq 0.19.2 requires google-auth-oauthlib>=0.7.0, but you have google-auth-oauthlib 0.4.6 which is incompatible.\n",
            "tensorflow-datasets 4.9.4 requires protobuf>=3.20, but you have protobuf 3.19.6 which is incompatible.\n",
            "tensorflow-metadata 1.14.0 requires protobuf<4.21,>=3.20.3, but you have protobuf 3.19.6 which is incompatible.\n",
            "tf-keras 2.15.1 requires tensorflow<2.16,>=2.15, but you have tensorflow 2.10.1 which is incompatible.\u001b[0m\u001b[31m\n",
            "\u001b[0mSuccessfully installed boto3-1.34.75 botocore-1.34.75 gast-0.4.0 google-auth-oauthlib-0.4.6 jmespath-1.0.1 keras-2.10.0 keras-preprocessing-1.1.2 pavimentados-0.31.3 protobuf-3.19.6 pynmea2-1.19.0 s3transfer-0.10.1 tensorboard-2.10.1 tensorboard-data-server-0.6.1 tensorboard-plugin-wit-1.8.1 tensorflow-2.10.1 tensorflow-estimator-2.10.0\n"
          ]
        },
        {
          "data": {
            "application/vnd.colab-display-data+json": {
              "id": "d1a00221e6c84173990256f7f961eeca",
              "pip_warning": {
                "packages": [
                  "google"
                ]
              }
            }
          },
          "metadata": {},
          "output_type": "display_data"
        }
      ],
      "source": [
        "pip install pavimentados"
      ]
    },
    {
      "cell_type": "code",
      "execution_count": null,
      "metadata": {
        "id": "UYXZu8FVwfF2"
      },
      "outputs": [],
      "source": [
        "!pip install --upgrade google-auth-oauthlib\n",
        "!pip install --upgrade protobuf\n",
        "!pip install tensorflow==2.10.1\n"
      ]
    },
    {
      "cell_type": "markdown",
      "metadata": {
        "id": "kbAFNgOrkxPz"
      },
      "source": [
        "**1.2 CARGANDO EL MODELO ENTRENADO PAVIMENTADO2 IADB**"
      ]
    },
    {
      "cell_type": "code",
      "execution_count": null,
      "metadata": {
        "colab": {
          "base_uri": "https://localhost:8080/"
        },
        "id": "7ebbCTB-jsFr",
        "outputId": "edbd813c-b90c-4ec6-d447-c46c0216f4f1"
      },
      "outputs": [
        {
          "name": "stderr",
          "output_type": "stream",
          "text": [
            "/usr/local/lib/python3.10/dist-packages/pavimentados/processing/processors.py:8: TqdmExperimentalWarning: Using `tqdm.autonotebook.tqdm` in notebook mode. Use `tqdm.tqdm` instead to force console mode (e.g. in jupyter console)\n",
            "  from tqdm.autonotebook import tqdm\n"
          ]
        }
      ],
      "source": [
        "from tqdm import tqdm\n",
        "\n",
        "from pavimentados import download_models\n",
        "download_models(url='https://github.com/EL-BID/pavimentados/raw/e1cdb42d01f6ae323b7dc02d6e05d3c8b3b625a8/models/models.tar.gz?download=')\n"
      ]
    },
    {
      "cell_type": "code",
      "execution_count": null,
      "metadata": {
        "colab": {
          "base_uri": "https://localhost:8080/"
        },
        "id": "aH5iMHCUGa8G",
        "outputId": "b3c7a502-eed7-4c07-f883-e28c4e531291"
      },
      "outputs": [
        {
          "name": "stdout",
          "output_type": "stream",
          "text": [
            "--2024-04-02 15:41:48--  https://github.com/EL-BID/pavimentados/raw/e1cdb42d01f6ae323b7dc02d6e05d3c8b3b625a8/models/models.tar.gz?download=\n",
            "Resolving github.com (github.com)... 140.82.121.4\n",
            "Connecting to github.com (github.com)|140.82.121.4|:443... connected.\n",
            "HTTP request sent, awaiting response... 302 Found\n",
            "Location: https://media.githubusercontent.com/media/EL-BID/pavimentados/e1cdb42d01f6ae323b7dc02d6e05d3c8b3b625a8/models/models.tar.gz?download=true [following]\n",
            "--2024-04-02 15:41:48--  https://media.githubusercontent.com/media/EL-BID/pavimentados/e1cdb42d01f6ae323b7dc02d6e05d3c8b3b625a8/models/models.tar.gz?download=true\n",
            "Resolving media.githubusercontent.com (media.githubusercontent.com)... 185.199.108.133, 185.199.109.133, 185.199.110.133, ...\n",
            "Connecting to media.githubusercontent.com (media.githubusercontent.com)|185.199.108.133|:443... connected.\n",
            "HTTP request sent, awaiting response... 200 OK\n",
            "Length: 1345256321 (1.3G) [application/octet-stream]\n",
            "Saving to: ‘./models/models.tar.gz’\n",
            "\n",
            "./models/models.tar 100%[===================>]   1.25G   124MB/s    in 9.8s    \n",
            "\n",
            "2024-04-02 15:41:58 (131 MB/s) - ‘./models/models.tar.gz’ saved [1345256321/1345256321]\n",
            "\n"
          ]
        }
      ],
      "source": [
        "\n",
        "!mkdir models\n",
        "!wget 'https://github.com/EL-BID/pavimentados/raw/e1cdb42d01f6ae323b7dc02d6e05d3c8b3b625a8/models/models.tar.gz?download=' -O ./models/models.tar.gz"
      ]
    },
    {
      "cell_type": "code",
      "execution_count": null,
      "metadata": {
        "id": "3d5AcAViIma2"
      },
      "outputs": [],
      "source": [
        "!tar -xzvf /content/models/models.tar.gz -C /content/models/"
      ]
    },
    {
      "cell_type": "markdown",
      "metadata": {
        "id": "57jQO_lGb4vY"
      },
      "source": [
        "**1.3 CREANDO LAS CARPETAS DE TRABAJO**"
      ]
    },
    {
      "cell_type": "code",
      "execution_count": null,
      "metadata": {
        "colab": {
          "base_uri": "https://localhost:8080/"
        },
        "id": "--qgWwZzbmRL",
        "outputId": "346be70a-bf7f-4482-90b8-a0fb338526e7"
      },
      "outputs": [
        {
          "name": "stdout",
          "output_type": "stream",
          "text": [
            "Se ha creado la carpeta: /content/outputs\n",
            "Se ha creado la carpeta: /content/road_images\n"
          ]
        }
      ],
      "source": [
        "import os\n",
        "\n",
        "output_folder = '/content/outputs'\n",
        "road_images_folder = '/content/road_images'\n",
        "\n",
        "if not os.path.exists(output_folder):\n",
        "    os.makedirs(output_folder)\n",
        "    print(f'Se ha creado la carpeta: {output_folder}')\n",
        "else:\n",
        "    print(f'La carpeta {output_folder} ya existe.')\n",
        "\n",
        "\n",
        "if not os.path.exists(road_images_folder):\n",
        "    os.makedirs(road_images_folder)\n",
        "    print(f'Se ha creado la carpeta: {road_images_folder}')\n",
        "else:\n",
        "    print(f'La carpeta {road_images_folder} ya existe.')\n"
      ]
    },
    {
      "cell_type": "markdown",
      "metadata": {
        "id": "QQXuNsLh1YGU"
      },
      "source": [
        "***ANTES DE CONTINUAR, DEBE CARGAR LAS IMAGENES PARA EL ANALISIS EN LA CARPETA \"ROAD_IMAGES\"***\n",
        "\n",
        "\n",
        "\n",
        "\n"
      ]
    },
    {
      "cell_type": "markdown",
      "metadata": {
        "id": "SdPdNpjG2FL9"
      },
      "source": [
        "\n",
        "\n",
        "---\n",
        "\n"
      ]
    },
    {
      "cell_type": "markdown",
      "metadata": {
        "id": "KLpnLpFJ2Hji"
      },
      "source": [
        "**1.4 EJECUTAR EL MODELO IA PAVIMENTADO**"
      ]
    },
    {
      "cell_type": "code",
      "execution_count": null,
      "metadata": {
        "id": "FkI8-FAOfZU4",
        "colab": {
          "base_uri": "https://localhost:8080/",
          "height": 292,
          "referenced_widgets": [
            "c55646acd80d44ff8c333712f11734cc",
            "f63d74b7b58b4689966539cc2a2a1157",
            "53c2a18bc8ff46408ecf83fc62936e6d",
            "d67a81cbe979453a8ad76ef7b88c1148",
            "79b526b05906421b90933963b3de0158",
            "12500a49808447cf8f2fbd325c7d5de3",
            "196906b9656f40bfb6487f4dd8ad8799",
            "a0d511ad7c3142278ba911b2d4b3359d",
            "15dfaca5c274454c867567d53a724a93",
            "5a8a554777ba450e8b7759ad410ef19a",
            "de8b1dc0c9f546c1bd1f1877950c9fae"
          ]
        },
        "outputId": "8ba855a8-d12d-4250-96d6-8773a457df37"
      },
      "outputs": [
        {
          "output_type": "stream",
          "name": "stderr",
          "text": [
            "100%|██████████| 17/17 [00:00<00:00, 22.01it/s]\n",
            "100%|██████████| 318/318 [00:03<00:00, 99.31it/s]\n"
          ]
        },
        {
          "output_type": "stream",
          "name": "stdout",
          "text": [
            "Createing siamese model\n",
            "Loading Weights siamese\n",
            "Siamese model first loaded\n",
            "1/1 [==============================] - 1s 1s/step\n",
            "1/1 [==============================] - 1s 567ms/step\n",
            "1/1 [==============================] - 1s 576ms/step\n",
            "1/1 [==============================] - 1s 648ms/step\n",
            "10/10 [==============================] - 7s 609ms/step\n",
            "10/10 [==============================] - 7s 691ms/step\n"
          ]
        },
        {
          "output_type": "stream",
          "name": "stderr",
          "text": [
            "WARNING:tensorflow:Error in loading the saved optimizer state. As a result, your model is starting with a freshly initialized optimizer.\n",
            "6it [00:00, 849.54it/s]\n"
          ]
        },
        {
          "output_type": "display_data",
          "data": {
            "text/plain": [
              "  0%|          | 0/1 [00:00<?, ?it/s]"
            ],
            "application/vnd.jupyter.widget-view+json": {
              "version_major": 2,
              "version_minor": 0,
              "model_id": "c55646acd80d44ff8c333712f11734cc"
            }
          },
          "metadata": {}
        },
        {
          "output_type": "stream",
          "name": "stdout",
          "text": [
            "1/1 [==============================] - 20s 20s/step\n"
          ]
        }
      ],
      "source": [
        "import pavimentados\n",
        "import tensorflow as tf\n",
        "from pavimentados.processing.processors import MultiImage_Processor\n",
        "from pavimentados.processing.workflows import Workflow_Processor\n",
        "from pathlib import Path\n",
        "import pandas as pd\n",
        "import os\n",
        "\n",
        "# Ruta con las imágenes para el procesamiento\n",
        "route = Path('/content/road_images')\n",
        "\n",
        "# Crear un MultiImage_Processor\n",
        "ml_processor = MultiImage_Processor(assign_devices = True, gpu_enabled = False, artifacts_path=\"/content/models/artifacts\")\n",
        "\n",
        "\n",
        "# Cargar el workflow con la ruta de las imágenes\n",
        "workflow = Workflow_Processor(route, image_source_type='image_folder', gps_source_type = 'image_folder')\n",
        "\n",
        "# Crear la carpeta /content/outputs/ si no existe\n",
        "output_dir = '/content/outputs/'\n",
        "os.makedirs(output_dir, exist_ok=True)\n",
        "\n",
        "\n",
        "results = workflow.execute(ml_processor)\n",
        "\n",
        "for result_name in results.keys():\n",
        "        pd.DataFrame(results[result_name]).to_csv(f\"./outputs/{result_name}.csv\")\n"
      ]
    },
    {
      "cell_type": "markdown",
      "source": [
        "# **CAPITULO II. ILUSTRACION DE RESULTADOS**"
      ],
      "metadata": {
        "id": "I_9JV362OvQi"
      }
    },
    {
      "cell_type": "markdown",
      "metadata": {
        "id": "6bTLZTN1tglX"
      },
      "source": [
        "**2.1 MAPA CON LAS DETECCIONES**\n",
        "\n",
        "*   AMBIENTE COLAB"
      ]
    },
    {
      "cell_type": "code",
      "execution_count": null,
      "metadata": {
        "colab": {
          "base_uri": "https://localhost:8080/",
          "height": 882
        },
        "id": "Lkjnzh5v379f",
        "outputId": "3c9cb862-7b43-4aae-fe9f-8e5d0618c926"
      },
      "outputs": [
        {
          "output_type": "execute_result",
          "data": {
            "text/plain": [
              "<folium.folium.Map at 0x7ba9f6a07310>"
            ],
            "text/html": [
              "<div style=\"width:100%;\"><div style=\"position:relative;width:100%;height:0;padding-bottom:60%;\"><span style=\"color:#565656\">Make this Notebook Trusted to load map: File -> Trust Notebook</span><iframe srcdoc=\"&lt;!DOCTYPE html&gt;\n",
              "&lt;html&gt;\n",
              "&lt;head&gt;\n",
              "    \n",
              "    &lt;meta http-equiv=&quot;content-type&quot; content=&quot;text/html; charset=UTF-8&quot; /&gt;\n",
              "    \n",
              "        &lt;script&gt;\n",
              "            L_NO_TOUCH = false;\n",
              "            L_DISABLE_3D = false;\n",
              "        &lt;/script&gt;\n",
              "    \n",
              "    &lt;style&gt;html, body {width: 100%;height: 100%;margin: 0;padding: 0;}&lt;/style&gt;\n",
              "    &lt;style&gt;#map {position:absolute;top:0;bottom:0;right:0;left:0;}&lt;/style&gt;\n",
              "    &lt;script src=&quot;https://cdn.jsdelivr.net/npm/leaflet@1.9.3/dist/leaflet.js&quot;&gt;&lt;/script&gt;\n",
              "    &lt;script src=&quot;https://code.jquery.com/jquery-1.12.4.min.js&quot;&gt;&lt;/script&gt;\n",
              "    &lt;script src=&quot;https://cdn.jsdelivr.net/npm/bootstrap@5.2.2/dist/js/bootstrap.bundle.min.js&quot;&gt;&lt;/script&gt;\n",
              "    &lt;script src=&quot;https://cdnjs.cloudflare.com/ajax/libs/Leaflet.awesome-markers/2.0.2/leaflet.awesome-markers.js&quot;&gt;&lt;/script&gt;\n",
              "    &lt;link rel=&quot;stylesheet&quot; href=&quot;https://cdn.jsdelivr.net/npm/leaflet@1.9.3/dist/leaflet.css&quot;/&gt;\n",
              "    &lt;link rel=&quot;stylesheet&quot; href=&quot;https://cdn.jsdelivr.net/npm/bootstrap@5.2.2/dist/css/bootstrap.min.css&quot;/&gt;\n",
              "    &lt;link rel=&quot;stylesheet&quot; href=&quot;https://netdna.bootstrapcdn.com/bootstrap/3.0.0/css/bootstrap.min.css&quot;/&gt;\n",
              "    &lt;link rel=&quot;stylesheet&quot; href=&quot;https://cdn.jsdelivr.net/npm/@fortawesome/fontawesome-free@6.2.0/css/all.min.css&quot;/&gt;\n",
              "    &lt;link rel=&quot;stylesheet&quot; href=&quot;https://cdnjs.cloudflare.com/ajax/libs/Leaflet.awesome-markers/2.0.2/leaflet.awesome-markers.css&quot;/&gt;\n",
              "    &lt;link rel=&quot;stylesheet&quot; href=&quot;https://cdn.jsdelivr.net/gh/python-visualization/folium/folium/templates/leaflet.awesome.rotate.min.css&quot;/&gt;\n",
              "    \n",
              "            &lt;meta name=&quot;viewport&quot; content=&quot;width=device-width,\n",
              "                initial-scale=1.0, maximum-scale=1.0, user-scalable=no&quot; /&gt;\n",
              "            &lt;style&gt;\n",
              "                #map_216b6677b0680993d8491266f44bfb07 {\n",
              "                    position: relative;\n",
              "                    width: 100.0%;\n",
              "                    height: 100.0%;\n",
              "                    left: 0.0%;\n",
              "                    top: 0.0%;\n",
              "                }\n",
              "                .leaflet-container { font-size: 1rem; }\n",
              "            &lt;/style&gt;\n",
              "        \n",
              "&lt;/head&gt;\n",
              "&lt;body&gt;\n",
              "    \n",
              "    &lt;div style=&quot;position: fixed; bottom: 50px; left: 50px; width: 200px; height: auto;background-color: white; border:2px solid grey; z-index:9999; font-size:12px; border-radius: 6px; padding: 10px;&quot;&gt;&amp;nbsp; &lt;b&gt;Clases de Deterioro&lt;/b&gt; &lt;br&gt;&lt;i style=&quot;background: #1f77b4; width: 12px; height: 12px; float: left; margin-right: 5px;&quot;&gt;&lt;/i&gt;Desenfoque Linea Blanca&lt;br&gt;&lt;i style=&quot;background: #ff7f0e; width: 12px; height: 12px; float: left; margin-right: 5px;&quot;&gt;&lt;/i&gt;Desenfoque Paso Peatonal&lt;br&gt;&lt;i style=&quot;background: #2ca02c; width: 12px; height: 12px; float: left; margin-right: 5px;&quot;&gt;&lt;/i&gt;Grieta Lineal Longitudinal&lt;br&gt;&lt;i style=&quot;background: #d62728; width: 12px; height: 12px; float: left; margin-right: 5px;&quot;&gt;&lt;/i&gt;Grieta Lineal Transversal&lt;br&gt;&lt;i style=&quot;background: #9467bd; width: 12px; height: 12px; float: left; margin-right: 5px;&quot;&gt;&lt;/i&gt;Intervalo Lineal Transversal&lt;br&gt;&lt;i style=&quot;background: #8c564b; width: 12px; height: 12px; float: left; margin-right: 5px;&quot;&gt;&lt;/i&gt;Otras Fallas&lt;br&gt;&lt;i style=&quot;background: #e377c2; width: 12px; height: 12px; float: left; margin-right: 5px;&quot;&gt;&lt;/i&gt;Piel de Cocodrilo&lt;br&gt;&lt;i style=&quot;background: #7f7f7f; width: 12px; height: 12px; float: left; margin-right: 5px;&quot;&gt;&lt;/i&gt;Protuberancia, Bache&lt;br&gt;&lt;/div&gt;\n",
              "    \n",
              "            &lt;div class=&quot;folium-map&quot; id=&quot;map_216b6677b0680993d8491266f44bfb07&quot; &gt;&lt;/div&gt;\n",
              "        \n",
              "&lt;/body&gt;\n",
              "&lt;script&gt;\n",
              "    \n",
              "    \n",
              "            var map_216b6677b0680993d8491266f44bfb07 = L.map(\n",
              "                &quot;map_216b6677b0680993d8491266f44bfb07&quot;,\n",
              "                {\n",
              "                    center: [12.637520128824477, -87.13483401084011],\n",
              "                    crs: L.CRS.EPSG3857,\n",
              "                    zoom: 12,\n",
              "                    zoomControl: true,\n",
              "                    preferCanvas: false,\n",
              "                }\n",
              "            );\n",
              "\n",
              "            \n",
              "\n",
              "        \n",
              "    \n",
              "            var tile_layer_74eda51c72c0fb54cbff034d5a5b3c26 = L.tileLayer(\n",
              "                &quot;https://{s}.tile.openstreetmap.org/{z}/{x}/{y}.png&quot;,\n",
              "                {&quot;attribution&quot;: &quot;Data by \\u0026copy; \\u003ca target=\\&quot;_blank\\&quot; href=\\&quot;http://openstreetmap.org\\&quot;\\u003eOpenStreetMap\\u003c/a\\u003e, under \\u003ca target=\\&quot;_blank\\&quot; href=\\&quot;http://www.openstreetmap.org/copyright\\&quot;\\u003eODbL\\u003c/a\\u003e.&quot;, &quot;detectRetina&quot;: false, &quot;maxNativeZoom&quot;: 18, &quot;maxZoom&quot;: 18, &quot;minZoom&quot;: 0, &quot;noWrap&quot;: false, &quot;opacity&quot;: 1, &quot;subdomains&quot;: &quot;abc&quot;, &quot;tms&quot;: false}\n",
              "            ).addTo(map_216b6677b0680993d8491266f44bfb07);\n",
              "        \n",
              "    \n",
              "            var poly_line_536b06bdea450f2617bd798ccae3a108 = L.polyline(\n",
              "                [[12.637520128824477, -87.13483401084011], [12.637480158730158, -87.13493055555556]],\n",
              "                {&quot;bubblingMouseEvents&quot;: true, &quot;color&quot;: &quot;#e377c2&quot;, &quot;dashArray&quot;: null, &quot;dashOffset&quot;: null, &quot;fill&quot;: false, &quot;fillColor&quot;: &quot;#e377c2&quot;, &quot;fillOpacity&quot;: 0.2, &quot;fillRule&quot;: &quot;evenodd&quot;, &quot;lineCap&quot;: &quot;round&quot;, &quot;lineJoin&quot;: &quot;round&quot;, &quot;noClip&quot;: false, &quot;opacity&quot;: 1, &quot;smoothFactor&quot;: 1.0, &quot;stroke&quot;: true, &quot;weight&quot;: 8}\n",
              "            ).addTo(map_216b6677b0680993d8491266f44bfb07);\n",
              "        \n",
              "    \n",
              "            poly_line_536b06bdea450f2617bd798ccae3a108.bindTooltip(\n",
              "                `&lt;div&gt;\n",
              "                     Piel de Cocodrilo\n",
              "                 &lt;/div&gt;`,\n",
              "                {&quot;sticky&quot;: true}\n",
              "            );\n",
              "        \n",
              "&lt;/script&gt;\n",
              "&lt;/html&gt;\" style=\"position:absolute;width:100%;height:100%;left:0;top:0;border:none !important;\" allowfullscreen webkitallowfullscreen mozallowfullscreen></iframe></div></div>"
            ]
          },
          "metadata": {},
          "execution_count": 50
        }
      ],
      "source": [
        "import folium\n",
        "import pandas as pd\n",
        "\n",
        "# Cargar el DataFrame\n",
        "df = pd.read_csv('/content/outputs/data_resulting_fails.csv')\n",
        "\n",
        "# Diccionario con los colores asignados manualmente para cada clase\n",
        "class_to_color = {\n",
        "    'Desenfoque Linea Blanca': '#1f77b4',  # Azul\n",
        "    'Desenfoque Paso Peatonal': '#ff7f0e',  # Naranja\n",
        "    'Grieta Lineal Longitudinal': '#2ca02c',  # Verde\n",
        "    'Grieta Lineal Transversal': '#d62728',  # Rojo\n",
        "    'Intervalo Lineal Transversal': '#9467bd',  # Morado\n",
        "    'Otras Fallas': '#8c564b',  # Marrón\n",
        "    'Piel de Cocodrilo': '#e377c2',  # Rosa\n",
        "    'Protuberancia, Bache': '#7f7f7f'   # Gris\n",
        "}\n",
        "\n",
        "# Filtrar el DataFrame para incluir solo las clases seleccionadas\n",
        "df_filtrado = df[df['classes'].isin(class_to_color.keys())]\n",
        "\n",
        "# Crear el mapa\n",
        "m = folium.Map(location=[df_filtrado['start_latitude'].mean(), df_filtrado['start_longitude'].mean()], zoom_start=12)\n",
        "\n",
        "# Añadir líneas al mapa para las clases filtradas con colores específicos\n",
        "for index, row in df_filtrado.iterrows():\n",
        "    folium.PolyLine(locations=[(row['start_latitude'], row['start_longitude']),\n",
        "                               (row['end_latitude'], row['end_longitude'])],\n",
        "                    color=class_to_color[row['classes']],\n",
        "                    weight=8, opacity=1,\n",
        "                    tooltip=row['classes']).add_to(m)\n",
        "\n",
        "# Crear la leyenda como un elemento HTML\n",
        "legend_html = '<div style=\"position: fixed; bottom: 50px; left: 50px; width: 200px; height: auto;' \\\n",
        "              'background-color: white; border:2px solid grey; z-index:9999; font-size:12px; ' \\\n",
        "              'border-radius: 6px; padding: 10px;\">&nbsp; <b>Clases de Deterioro</b> <br>'\n",
        "for cls, color in class_to_color.items():\n",
        "    legend_html += f'<i style=\"background: {color}; width: 12px; height: 12px; float: left; margin-right: 5px;\"></i>{cls}<br>'\n",
        "legend_html += '</div>'\n",
        "\n",
        "# Añadir la leyenda al mapa\n",
        "m.get_root().html.add_child(folium.Element(legend_html))\n",
        "\n",
        "# Mostrar el mapa\n",
        "m\n",
        "\n"
      ]
    }
  ],
  "metadata": {
    "colab": {
      "provenance": [],
      "include_colab_link": true
    },
    "kernelspec": {
      "display_name": "Python 3",
      "name": "python3"
    },
    "language_info": {
      "name": "python"
    },
    "widgets": {
      "application/vnd.jupyter.widget-state+json": {
        "c55646acd80d44ff8c333712f11734cc": {
          "model_module": "@jupyter-widgets/controls",
          "model_name": "HBoxModel",
          "model_module_version": "1.5.0",
          "state": {
            "_dom_classes": [],
            "_model_module": "@jupyter-widgets/controls",
            "_model_module_version": "1.5.0",
            "_model_name": "HBoxModel",
            "_view_count": null,
            "_view_module": "@jupyter-widgets/controls",
            "_view_module_version": "1.5.0",
            "_view_name": "HBoxView",
            "box_style": "",
            "children": [
              "IPY_MODEL_f63d74b7b58b4689966539cc2a2a1157",
              "IPY_MODEL_53c2a18bc8ff46408ecf83fc62936e6d",
              "IPY_MODEL_d67a81cbe979453a8ad76ef7b88c1148"
            ],
            "layout": "IPY_MODEL_79b526b05906421b90933963b3de0158"
          }
        },
        "f63d74b7b58b4689966539cc2a2a1157": {
          "model_module": "@jupyter-widgets/controls",
          "model_name": "HTMLModel",
          "model_module_version": "1.5.0",
          "state": {
            "_dom_classes": [],
            "_model_module": "@jupyter-widgets/controls",
            "_model_module_version": "1.5.0",
            "_model_name": "HTMLModel",
            "_view_count": null,
            "_view_module": "@jupyter-widgets/controls",
            "_view_module_version": "1.5.0",
            "_view_name": "HTMLView",
            "description": "",
            "description_tooltip": null,
            "layout": "IPY_MODEL_12500a49808447cf8f2fbd325c7d5de3",
            "placeholder": "​",
            "style": "IPY_MODEL_196906b9656f40bfb6487f4dd8ad8799",
            "value": "100%"
          }
        },
        "53c2a18bc8ff46408ecf83fc62936e6d": {
          "model_module": "@jupyter-widgets/controls",
          "model_name": "FloatProgressModel",
          "model_module_version": "1.5.0",
          "state": {
            "_dom_classes": [],
            "_model_module": "@jupyter-widgets/controls",
            "_model_module_version": "1.5.0",
            "_model_name": "FloatProgressModel",
            "_view_count": null,
            "_view_module": "@jupyter-widgets/controls",
            "_view_module_version": "1.5.0",
            "_view_name": "ProgressView",
            "bar_style": "success",
            "description": "",
            "description_tooltip": null,
            "layout": "IPY_MODEL_a0d511ad7c3142278ba911b2d4b3359d",
            "max": 1,
            "min": 0,
            "orientation": "horizontal",
            "style": "IPY_MODEL_15dfaca5c274454c867567d53a724a93",
            "value": 1
          }
        },
        "d67a81cbe979453a8ad76ef7b88c1148": {
          "model_module": "@jupyter-widgets/controls",
          "model_name": "HTMLModel",
          "model_module_version": "1.5.0",
          "state": {
            "_dom_classes": [],
            "_model_module": "@jupyter-widgets/controls",
            "_model_module_version": "1.5.0",
            "_model_name": "HTMLModel",
            "_view_count": null,
            "_view_module": "@jupyter-widgets/controls",
            "_view_module_version": "1.5.0",
            "_view_name": "HTMLView",
            "description": "",
            "description_tooltip": null,
            "layout": "IPY_MODEL_5a8a554777ba450e8b7759ad410ef19a",
            "placeholder": "​",
            "style": "IPY_MODEL_de8b1dc0c9f546c1bd1f1877950c9fae",
            "value": " 1/1 [00:24&lt;00:00, 24.43s/it]"
          }
        },
        "79b526b05906421b90933963b3de0158": {
          "model_module": "@jupyter-widgets/base",
          "model_name": "LayoutModel",
          "model_module_version": "1.2.0",
          "state": {
            "_model_module": "@jupyter-widgets/base",
            "_model_module_version": "1.2.0",
            "_model_name": "LayoutModel",
            "_view_count": null,
            "_view_module": "@jupyter-widgets/base",
            "_view_module_version": "1.2.0",
            "_view_name": "LayoutView",
            "align_content": null,
            "align_items": null,
            "align_self": null,
            "border": null,
            "bottom": null,
            "display": null,
            "flex": null,
            "flex_flow": null,
            "grid_area": null,
            "grid_auto_columns": null,
            "grid_auto_flow": null,
            "grid_auto_rows": null,
            "grid_column": null,
            "grid_gap": null,
            "grid_row": null,
            "grid_template_areas": null,
            "grid_template_columns": null,
            "grid_template_rows": null,
            "height": null,
            "justify_content": null,
            "justify_items": null,
            "left": null,
            "margin": null,
            "max_height": null,
            "max_width": null,
            "min_height": null,
            "min_width": null,
            "object_fit": null,
            "object_position": null,
            "order": null,
            "overflow": null,
            "overflow_x": null,
            "overflow_y": null,
            "padding": null,
            "right": null,
            "top": null,
            "visibility": null,
            "width": null
          }
        },
        "12500a49808447cf8f2fbd325c7d5de3": {
          "model_module": "@jupyter-widgets/base",
          "model_name": "LayoutModel",
          "model_module_version": "1.2.0",
          "state": {
            "_model_module": "@jupyter-widgets/base",
            "_model_module_version": "1.2.0",
            "_model_name": "LayoutModel",
            "_view_count": null,
            "_view_module": "@jupyter-widgets/base",
            "_view_module_version": "1.2.0",
            "_view_name": "LayoutView",
            "align_content": null,
            "align_items": null,
            "align_self": null,
            "border": null,
            "bottom": null,
            "display": null,
            "flex": null,
            "flex_flow": null,
            "grid_area": null,
            "grid_auto_columns": null,
            "grid_auto_flow": null,
            "grid_auto_rows": null,
            "grid_column": null,
            "grid_gap": null,
            "grid_row": null,
            "grid_template_areas": null,
            "grid_template_columns": null,
            "grid_template_rows": null,
            "height": null,
            "justify_content": null,
            "justify_items": null,
            "left": null,
            "margin": null,
            "max_height": null,
            "max_width": null,
            "min_height": null,
            "min_width": null,
            "object_fit": null,
            "object_position": null,
            "order": null,
            "overflow": null,
            "overflow_x": null,
            "overflow_y": null,
            "padding": null,
            "right": null,
            "top": null,
            "visibility": null,
            "width": null
          }
        },
        "196906b9656f40bfb6487f4dd8ad8799": {
          "model_module": "@jupyter-widgets/controls",
          "model_name": "DescriptionStyleModel",
          "model_module_version": "1.5.0",
          "state": {
            "_model_module": "@jupyter-widgets/controls",
            "_model_module_version": "1.5.0",
            "_model_name": "DescriptionStyleModel",
            "_view_count": null,
            "_view_module": "@jupyter-widgets/base",
            "_view_module_version": "1.2.0",
            "_view_name": "StyleView",
            "description_width": ""
          }
        },
        "a0d511ad7c3142278ba911b2d4b3359d": {
          "model_module": "@jupyter-widgets/base",
          "model_name": "LayoutModel",
          "model_module_version": "1.2.0",
          "state": {
            "_model_module": "@jupyter-widgets/base",
            "_model_module_version": "1.2.0",
            "_model_name": "LayoutModel",
            "_view_count": null,
            "_view_module": "@jupyter-widgets/base",
            "_view_module_version": "1.2.0",
            "_view_name": "LayoutView",
            "align_content": null,
            "align_items": null,
            "align_self": null,
            "border": null,
            "bottom": null,
            "display": null,
            "flex": null,
            "flex_flow": null,
            "grid_area": null,
            "grid_auto_columns": null,
            "grid_auto_flow": null,
            "grid_auto_rows": null,
            "grid_column": null,
            "grid_gap": null,
            "grid_row": null,
            "grid_template_areas": null,
            "grid_template_columns": null,
            "grid_template_rows": null,
            "height": null,
            "justify_content": null,
            "justify_items": null,
            "left": null,
            "margin": null,
            "max_height": null,
            "max_width": null,
            "min_height": null,
            "min_width": null,
            "object_fit": null,
            "object_position": null,
            "order": null,
            "overflow": null,
            "overflow_x": null,
            "overflow_y": null,
            "padding": null,
            "right": null,
            "top": null,
            "visibility": null,
            "width": null
          }
        },
        "15dfaca5c274454c867567d53a724a93": {
          "model_module": "@jupyter-widgets/controls",
          "model_name": "ProgressStyleModel",
          "model_module_version": "1.5.0",
          "state": {
            "_model_module": "@jupyter-widgets/controls",
            "_model_module_version": "1.5.0",
            "_model_name": "ProgressStyleModel",
            "_view_count": null,
            "_view_module": "@jupyter-widgets/base",
            "_view_module_version": "1.2.0",
            "_view_name": "StyleView",
            "bar_color": null,
            "description_width": ""
          }
        },
        "5a8a554777ba450e8b7759ad410ef19a": {
          "model_module": "@jupyter-widgets/base",
          "model_name": "LayoutModel",
          "model_module_version": "1.2.0",
          "state": {
            "_model_module": "@jupyter-widgets/base",
            "_model_module_version": "1.2.0",
            "_model_name": "LayoutModel",
            "_view_count": null,
            "_view_module": "@jupyter-widgets/base",
            "_view_module_version": "1.2.0",
            "_view_name": "LayoutView",
            "align_content": null,
            "align_items": null,
            "align_self": null,
            "border": null,
            "bottom": null,
            "display": null,
            "flex": null,
            "flex_flow": null,
            "grid_area": null,
            "grid_auto_columns": null,
            "grid_auto_flow": null,
            "grid_auto_rows": null,
            "grid_column": null,
            "grid_gap": null,
            "grid_row": null,
            "grid_template_areas": null,
            "grid_template_columns": null,
            "grid_template_rows": null,
            "height": null,
            "justify_content": null,
            "justify_items": null,
            "left": null,
            "margin": null,
            "max_height": null,
            "max_width": null,
            "min_height": null,
            "min_width": null,
            "object_fit": null,
            "object_position": null,
            "order": null,
            "overflow": null,
            "overflow_x": null,
            "overflow_y": null,
            "padding": null,
            "right": null,
            "top": null,
            "visibility": null,
            "width": null
          }
        },
        "de8b1dc0c9f546c1bd1f1877950c9fae": {
          "model_module": "@jupyter-widgets/controls",
          "model_name": "DescriptionStyleModel",
          "model_module_version": "1.5.0",
          "state": {
            "_model_module": "@jupyter-widgets/controls",
            "_model_module_version": "1.5.0",
            "_model_name": "DescriptionStyleModel",
            "_view_count": null,
            "_view_module": "@jupyter-widgets/base",
            "_view_module_version": "1.2.0",
            "_view_name": "StyleView",
            "description_width": ""
          }
        }
      }
    }
  },
  "nbformat": 4,
  "nbformat_minor": 0
}
